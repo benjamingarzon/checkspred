{
 "cells": [
  {
   "cell_type": "code",
   "execution_count": 1,
   "id": "b5eb5e3e",
   "metadata": {},
   "outputs": [],
   "source": [
    "import numpy as np\n",
    "import pandas as pd\n",
    "import seaborn as sns\n",
    "from matplotlib import pyplot as plt\n",
    "from scipy.stats import linregress, pearsonr\n",
    "from sklearn.datasets import make_friedman1\n",
    "import seaborn as sns\n",
    "from sklearn.linear_model import RidgeCV, LassoCV,LinearRegression, ElasticNetCV\n",
    "from sklearn.experimental import enable_iterative_imputer\n",
    "from sklearn.impute import IterativeImputer\n",
    "from sklearn.preprocessing import StandardScaler\n",
    "from sklearn.pipeline import Pipeline\n",
    "from sklearn.model_selection import cross_val_score, cross_val_predict, KFold, GridSearchCV\n",
    "from sklearn.feature_selection import RFE\n",
    "from sklearn.metrics import mean_squared_error, r2_score\n",
    "from itertools import product\n",
    "from joblib import Parallel, delayed"
   ]
  },
  {
   "cell_type": "code",
   "execution_count": 2,
   "id": "217f8da6",
   "metadata": {},
   "outputs": [
    {
     "ename": "FileNotFoundError",
     "evalue": "[Errno 2] No such file or directory: './out/equalized/y_data_S2_ols_gM_4_all.csv'",
     "output_type": "error",
     "traceback": [
      "\u001b[0;31m---------------------------------------------------------------------------\u001b[0m",
      "\u001b[0;31mFileNotFoundError\u001b[0m                         Traceback (most recent call last)",
      "Cell \u001b[0;32mIn[2], line 1\u001b[0m\n\u001b[0;32m----> 1\u001b[0m y_data \u001b[38;5;241m=\u001b[39m \u001b[43mpd\u001b[49m\u001b[38;5;241;43m.\u001b[39;49m\u001b[43mread_csv\u001b[49m\u001b[43m(\u001b[49m\u001b[38;5;124;43m'\u001b[39;49m\u001b[38;5;124;43m./out/equalized/y_data_S2_ols_gM_4_all.csv\u001b[39;49m\u001b[38;5;124;43m'\u001b[39;49m\u001b[43m)\u001b[49m\n\u001b[1;32m      2\u001b[0m y_data\u001b[38;5;241m.\u001b[39mhead()\n",
      "File \u001b[0;32m~/anaconda3/checkspred/lib/python3.9/site-packages/pandas/util/_decorators.py:211\u001b[0m, in \u001b[0;36mdeprecate_kwarg.<locals>._deprecate_kwarg.<locals>.wrapper\u001b[0;34m(*args, **kwargs)\u001b[0m\n\u001b[1;32m    209\u001b[0m     \u001b[38;5;28;01melse\u001b[39;00m:\n\u001b[1;32m    210\u001b[0m         kwargs[new_arg_name] \u001b[38;5;241m=\u001b[39m new_arg_value\n\u001b[0;32m--> 211\u001b[0m \u001b[38;5;28;01mreturn\u001b[39;00m \u001b[43mfunc\u001b[49m\u001b[43m(\u001b[49m\u001b[38;5;241;43m*\u001b[39;49m\u001b[43margs\u001b[49m\u001b[43m,\u001b[49m\u001b[43m \u001b[49m\u001b[38;5;241;43m*\u001b[39;49m\u001b[38;5;241;43m*\u001b[39;49m\u001b[43mkwargs\u001b[49m\u001b[43m)\u001b[49m\n",
      "File \u001b[0;32m~/anaconda3/checkspred/lib/python3.9/site-packages/pandas/util/_decorators.py:331\u001b[0m, in \u001b[0;36mdeprecate_nonkeyword_arguments.<locals>.decorate.<locals>.wrapper\u001b[0;34m(*args, **kwargs)\u001b[0m\n\u001b[1;32m    325\u001b[0m \u001b[38;5;28;01mif\u001b[39;00m \u001b[38;5;28mlen\u001b[39m(args) \u001b[38;5;241m>\u001b[39m num_allow_args:\n\u001b[1;32m    326\u001b[0m     warnings\u001b[38;5;241m.\u001b[39mwarn(\n\u001b[1;32m    327\u001b[0m         msg\u001b[38;5;241m.\u001b[39mformat(arguments\u001b[38;5;241m=\u001b[39m_format_argument_list(allow_args)),\n\u001b[1;32m    328\u001b[0m         \u001b[38;5;167;01mFutureWarning\u001b[39;00m,\n\u001b[1;32m    329\u001b[0m         stacklevel\u001b[38;5;241m=\u001b[39mfind_stack_level(),\n\u001b[1;32m    330\u001b[0m     )\n\u001b[0;32m--> 331\u001b[0m \u001b[38;5;28;01mreturn\u001b[39;00m \u001b[43mfunc\u001b[49m\u001b[43m(\u001b[49m\u001b[38;5;241;43m*\u001b[39;49m\u001b[43margs\u001b[49m\u001b[43m,\u001b[49m\u001b[43m \u001b[49m\u001b[38;5;241;43m*\u001b[39;49m\u001b[38;5;241;43m*\u001b[39;49m\u001b[43mkwargs\u001b[49m\u001b[43m)\u001b[49m\n",
      "File \u001b[0;32m~/anaconda3/checkspred/lib/python3.9/site-packages/pandas/io/parsers/readers.py:950\u001b[0m, in \u001b[0;36mread_csv\u001b[0;34m(filepath_or_buffer, sep, delimiter, header, names, index_col, usecols, squeeze, prefix, mangle_dupe_cols, dtype, engine, converters, true_values, false_values, skipinitialspace, skiprows, skipfooter, nrows, na_values, keep_default_na, na_filter, verbose, skip_blank_lines, parse_dates, infer_datetime_format, keep_date_col, date_parser, dayfirst, cache_dates, iterator, chunksize, compression, thousands, decimal, lineterminator, quotechar, quoting, doublequote, escapechar, comment, encoding, encoding_errors, dialect, error_bad_lines, warn_bad_lines, on_bad_lines, delim_whitespace, low_memory, memory_map, float_precision, storage_options)\u001b[0m\n\u001b[1;32m    935\u001b[0m kwds_defaults \u001b[38;5;241m=\u001b[39m _refine_defaults_read(\n\u001b[1;32m    936\u001b[0m     dialect,\n\u001b[1;32m    937\u001b[0m     delimiter,\n\u001b[0;32m   (...)\u001b[0m\n\u001b[1;32m    946\u001b[0m     defaults\u001b[38;5;241m=\u001b[39m{\u001b[38;5;124m\"\u001b[39m\u001b[38;5;124mdelimiter\u001b[39m\u001b[38;5;124m\"\u001b[39m: \u001b[38;5;124m\"\u001b[39m\u001b[38;5;124m,\u001b[39m\u001b[38;5;124m\"\u001b[39m},\n\u001b[1;32m    947\u001b[0m )\n\u001b[1;32m    948\u001b[0m kwds\u001b[38;5;241m.\u001b[39mupdate(kwds_defaults)\n\u001b[0;32m--> 950\u001b[0m \u001b[38;5;28;01mreturn\u001b[39;00m \u001b[43m_read\u001b[49m\u001b[43m(\u001b[49m\u001b[43mfilepath_or_buffer\u001b[49m\u001b[43m,\u001b[49m\u001b[43m \u001b[49m\u001b[43mkwds\u001b[49m\u001b[43m)\u001b[49m\n",
      "File \u001b[0;32m~/anaconda3/checkspred/lib/python3.9/site-packages/pandas/io/parsers/readers.py:605\u001b[0m, in \u001b[0;36m_read\u001b[0;34m(filepath_or_buffer, kwds)\u001b[0m\n\u001b[1;32m    602\u001b[0m _validate_names(kwds\u001b[38;5;241m.\u001b[39mget(\u001b[38;5;124m\"\u001b[39m\u001b[38;5;124mnames\u001b[39m\u001b[38;5;124m\"\u001b[39m, \u001b[38;5;28;01mNone\u001b[39;00m))\n\u001b[1;32m    604\u001b[0m \u001b[38;5;66;03m# Create the parser.\u001b[39;00m\n\u001b[0;32m--> 605\u001b[0m parser \u001b[38;5;241m=\u001b[39m \u001b[43mTextFileReader\u001b[49m\u001b[43m(\u001b[49m\u001b[43mfilepath_or_buffer\u001b[49m\u001b[43m,\u001b[49m\u001b[43m \u001b[49m\u001b[38;5;241;43m*\u001b[39;49m\u001b[38;5;241;43m*\u001b[39;49m\u001b[43mkwds\u001b[49m\u001b[43m)\u001b[49m\n\u001b[1;32m    607\u001b[0m \u001b[38;5;28;01mif\u001b[39;00m chunksize \u001b[38;5;129;01mor\u001b[39;00m iterator:\n\u001b[1;32m    608\u001b[0m     \u001b[38;5;28;01mreturn\u001b[39;00m parser\n",
      "File \u001b[0;32m~/anaconda3/checkspred/lib/python3.9/site-packages/pandas/io/parsers/readers.py:1442\u001b[0m, in \u001b[0;36mTextFileReader.__init__\u001b[0;34m(self, f, engine, **kwds)\u001b[0m\n\u001b[1;32m   1439\u001b[0m     \u001b[38;5;28mself\u001b[39m\u001b[38;5;241m.\u001b[39moptions[\u001b[38;5;124m\"\u001b[39m\u001b[38;5;124mhas_index_names\u001b[39m\u001b[38;5;124m\"\u001b[39m] \u001b[38;5;241m=\u001b[39m kwds[\u001b[38;5;124m\"\u001b[39m\u001b[38;5;124mhas_index_names\u001b[39m\u001b[38;5;124m\"\u001b[39m]\n\u001b[1;32m   1441\u001b[0m \u001b[38;5;28mself\u001b[39m\u001b[38;5;241m.\u001b[39mhandles: IOHandles \u001b[38;5;241m|\u001b[39m \u001b[38;5;28;01mNone\u001b[39;00m \u001b[38;5;241m=\u001b[39m \u001b[38;5;28;01mNone\u001b[39;00m\n\u001b[0;32m-> 1442\u001b[0m \u001b[38;5;28mself\u001b[39m\u001b[38;5;241m.\u001b[39m_engine \u001b[38;5;241m=\u001b[39m \u001b[38;5;28;43mself\u001b[39;49m\u001b[38;5;241;43m.\u001b[39;49m\u001b[43m_make_engine\u001b[49m\u001b[43m(\u001b[49m\u001b[43mf\u001b[49m\u001b[43m,\u001b[49m\u001b[43m \u001b[49m\u001b[38;5;28;43mself\u001b[39;49m\u001b[38;5;241;43m.\u001b[39;49m\u001b[43mengine\u001b[49m\u001b[43m)\u001b[49m\n",
      "File \u001b[0;32m~/anaconda3/checkspred/lib/python3.9/site-packages/pandas/io/parsers/readers.py:1735\u001b[0m, in \u001b[0;36mTextFileReader._make_engine\u001b[0;34m(self, f, engine)\u001b[0m\n\u001b[1;32m   1733\u001b[0m     \u001b[38;5;28;01mif\u001b[39;00m \u001b[38;5;124m\"\u001b[39m\u001b[38;5;124mb\u001b[39m\u001b[38;5;124m\"\u001b[39m \u001b[38;5;129;01mnot\u001b[39;00m \u001b[38;5;129;01min\u001b[39;00m mode:\n\u001b[1;32m   1734\u001b[0m         mode \u001b[38;5;241m+\u001b[39m\u001b[38;5;241m=\u001b[39m \u001b[38;5;124m\"\u001b[39m\u001b[38;5;124mb\u001b[39m\u001b[38;5;124m\"\u001b[39m\n\u001b[0;32m-> 1735\u001b[0m \u001b[38;5;28mself\u001b[39m\u001b[38;5;241m.\u001b[39mhandles \u001b[38;5;241m=\u001b[39m \u001b[43mget_handle\u001b[49m\u001b[43m(\u001b[49m\n\u001b[1;32m   1736\u001b[0m \u001b[43m    \u001b[49m\u001b[43mf\u001b[49m\u001b[43m,\u001b[49m\n\u001b[1;32m   1737\u001b[0m \u001b[43m    \u001b[49m\u001b[43mmode\u001b[49m\u001b[43m,\u001b[49m\n\u001b[1;32m   1738\u001b[0m \u001b[43m    \u001b[49m\u001b[43mencoding\u001b[49m\u001b[38;5;241;43m=\u001b[39;49m\u001b[38;5;28;43mself\u001b[39;49m\u001b[38;5;241;43m.\u001b[39;49m\u001b[43moptions\u001b[49m\u001b[38;5;241;43m.\u001b[39;49m\u001b[43mget\u001b[49m\u001b[43m(\u001b[49m\u001b[38;5;124;43m\"\u001b[39;49m\u001b[38;5;124;43mencoding\u001b[39;49m\u001b[38;5;124;43m\"\u001b[39;49m\u001b[43m,\u001b[49m\u001b[43m \u001b[49m\u001b[38;5;28;43;01mNone\u001b[39;49;00m\u001b[43m)\u001b[49m\u001b[43m,\u001b[49m\n\u001b[1;32m   1739\u001b[0m \u001b[43m    \u001b[49m\u001b[43mcompression\u001b[49m\u001b[38;5;241;43m=\u001b[39;49m\u001b[38;5;28;43mself\u001b[39;49m\u001b[38;5;241;43m.\u001b[39;49m\u001b[43moptions\u001b[49m\u001b[38;5;241;43m.\u001b[39;49m\u001b[43mget\u001b[49m\u001b[43m(\u001b[49m\u001b[38;5;124;43m\"\u001b[39;49m\u001b[38;5;124;43mcompression\u001b[39;49m\u001b[38;5;124;43m\"\u001b[39;49m\u001b[43m,\u001b[49m\u001b[43m \u001b[49m\u001b[38;5;28;43;01mNone\u001b[39;49;00m\u001b[43m)\u001b[49m\u001b[43m,\u001b[49m\n\u001b[1;32m   1740\u001b[0m \u001b[43m    \u001b[49m\u001b[43mmemory_map\u001b[49m\u001b[38;5;241;43m=\u001b[39;49m\u001b[38;5;28;43mself\u001b[39;49m\u001b[38;5;241;43m.\u001b[39;49m\u001b[43moptions\u001b[49m\u001b[38;5;241;43m.\u001b[39;49m\u001b[43mget\u001b[49m\u001b[43m(\u001b[49m\u001b[38;5;124;43m\"\u001b[39;49m\u001b[38;5;124;43mmemory_map\u001b[39;49m\u001b[38;5;124;43m\"\u001b[39;49m\u001b[43m,\u001b[49m\u001b[43m \u001b[49m\u001b[38;5;28;43;01mFalse\u001b[39;49;00m\u001b[43m)\u001b[49m\u001b[43m,\u001b[49m\n\u001b[1;32m   1741\u001b[0m \u001b[43m    \u001b[49m\u001b[43mis_text\u001b[49m\u001b[38;5;241;43m=\u001b[39;49m\u001b[43mis_text\u001b[49m\u001b[43m,\u001b[49m\n\u001b[1;32m   1742\u001b[0m \u001b[43m    \u001b[49m\u001b[43merrors\u001b[49m\u001b[38;5;241;43m=\u001b[39;49m\u001b[38;5;28;43mself\u001b[39;49m\u001b[38;5;241;43m.\u001b[39;49m\u001b[43moptions\u001b[49m\u001b[38;5;241;43m.\u001b[39;49m\u001b[43mget\u001b[49m\u001b[43m(\u001b[49m\u001b[38;5;124;43m\"\u001b[39;49m\u001b[38;5;124;43mencoding_errors\u001b[39;49m\u001b[38;5;124;43m\"\u001b[39;49m\u001b[43m,\u001b[49m\u001b[43m \u001b[49m\u001b[38;5;124;43m\"\u001b[39;49m\u001b[38;5;124;43mstrict\u001b[39;49m\u001b[38;5;124;43m\"\u001b[39;49m\u001b[43m)\u001b[49m\u001b[43m,\u001b[49m\n\u001b[1;32m   1743\u001b[0m \u001b[43m    \u001b[49m\u001b[43mstorage_options\u001b[49m\u001b[38;5;241;43m=\u001b[39;49m\u001b[38;5;28;43mself\u001b[39;49m\u001b[38;5;241;43m.\u001b[39;49m\u001b[43moptions\u001b[49m\u001b[38;5;241;43m.\u001b[39;49m\u001b[43mget\u001b[49m\u001b[43m(\u001b[49m\u001b[38;5;124;43m\"\u001b[39;49m\u001b[38;5;124;43mstorage_options\u001b[39;49m\u001b[38;5;124;43m\"\u001b[39;49m\u001b[43m,\u001b[49m\u001b[43m \u001b[49m\u001b[38;5;28;43;01mNone\u001b[39;49;00m\u001b[43m)\u001b[49m\u001b[43m,\u001b[49m\n\u001b[1;32m   1744\u001b[0m \u001b[43m\u001b[49m\u001b[43m)\u001b[49m\n\u001b[1;32m   1745\u001b[0m \u001b[38;5;28;01massert\u001b[39;00m \u001b[38;5;28mself\u001b[39m\u001b[38;5;241m.\u001b[39mhandles \u001b[38;5;129;01mis\u001b[39;00m \u001b[38;5;129;01mnot\u001b[39;00m \u001b[38;5;28;01mNone\u001b[39;00m\n\u001b[1;32m   1746\u001b[0m f \u001b[38;5;241m=\u001b[39m \u001b[38;5;28mself\u001b[39m\u001b[38;5;241m.\u001b[39mhandles\u001b[38;5;241m.\u001b[39mhandle\n",
      "File \u001b[0;32m~/anaconda3/checkspred/lib/python3.9/site-packages/pandas/io/common.py:856\u001b[0m, in \u001b[0;36mget_handle\u001b[0;34m(path_or_buf, mode, encoding, compression, memory_map, is_text, errors, storage_options)\u001b[0m\n\u001b[1;32m    851\u001b[0m \u001b[38;5;28;01melif\u001b[39;00m \u001b[38;5;28misinstance\u001b[39m(handle, \u001b[38;5;28mstr\u001b[39m):\n\u001b[1;32m    852\u001b[0m     \u001b[38;5;66;03m# Check whether the filename is to be opened in binary mode.\u001b[39;00m\n\u001b[1;32m    853\u001b[0m     \u001b[38;5;66;03m# Binary mode does not support 'encoding' and 'newline'.\u001b[39;00m\n\u001b[1;32m    854\u001b[0m     \u001b[38;5;28;01mif\u001b[39;00m ioargs\u001b[38;5;241m.\u001b[39mencoding \u001b[38;5;129;01mand\u001b[39;00m \u001b[38;5;124m\"\u001b[39m\u001b[38;5;124mb\u001b[39m\u001b[38;5;124m\"\u001b[39m \u001b[38;5;129;01mnot\u001b[39;00m \u001b[38;5;129;01min\u001b[39;00m ioargs\u001b[38;5;241m.\u001b[39mmode:\n\u001b[1;32m    855\u001b[0m         \u001b[38;5;66;03m# Encoding\u001b[39;00m\n\u001b[0;32m--> 856\u001b[0m         handle \u001b[38;5;241m=\u001b[39m \u001b[38;5;28;43mopen\u001b[39;49m\u001b[43m(\u001b[49m\n\u001b[1;32m    857\u001b[0m \u001b[43m            \u001b[49m\u001b[43mhandle\u001b[49m\u001b[43m,\u001b[49m\n\u001b[1;32m    858\u001b[0m \u001b[43m            \u001b[49m\u001b[43mioargs\u001b[49m\u001b[38;5;241;43m.\u001b[39;49m\u001b[43mmode\u001b[49m\u001b[43m,\u001b[49m\n\u001b[1;32m    859\u001b[0m \u001b[43m            \u001b[49m\u001b[43mencoding\u001b[49m\u001b[38;5;241;43m=\u001b[39;49m\u001b[43mioargs\u001b[49m\u001b[38;5;241;43m.\u001b[39;49m\u001b[43mencoding\u001b[49m\u001b[43m,\u001b[49m\n\u001b[1;32m    860\u001b[0m \u001b[43m            \u001b[49m\u001b[43merrors\u001b[49m\u001b[38;5;241;43m=\u001b[39;49m\u001b[43merrors\u001b[49m\u001b[43m,\u001b[49m\n\u001b[1;32m    861\u001b[0m \u001b[43m            \u001b[49m\u001b[43mnewline\u001b[49m\u001b[38;5;241;43m=\u001b[39;49m\u001b[38;5;124;43m\"\u001b[39;49m\u001b[38;5;124;43m\"\u001b[39;49m\u001b[43m,\u001b[49m\n\u001b[1;32m    862\u001b[0m \u001b[43m        \u001b[49m\u001b[43m)\u001b[49m\n\u001b[1;32m    863\u001b[0m     \u001b[38;5;28;01melse\u001b[39;00m:\n\u001b[1;32m    864\u001b[0m         \u001b[38;5;66;03m# Binary mode\u001b[39;00m\n\u001b[1;32m    865\u001b[0m         handle \u001b[38;5;241m=\u001b[39m \u001b[38;5;28mopen\u001b[39m(handle, ioargs\u001b[38;5;241m.\u001b[39mmode)\n",
      "\u001b[0;31mFileNotFoundError\u001b[0m: [Errno 2] No such file or directory: './out/equalized/y_data_S2_ols_gM_4_all.csv'"
     ]
    }
   ],
   "source": [
    "y_data = pd.read_csv('./out/equalized/y_data_S2_ols_gM_4_all.csv')\n",
    "y_data.head()"
   ]
  },
  {
   "cell_type": "code",
   "execution_count": null,
   "id": "77dbfefb",
   "metadata": {},
   "outputs": [],
   "source": [
    "X_data = pd.read_csv('./out/equalized/X_data_S2_ols_gM_4_all.csv')\n",
    "print(X_data.shape)\n",
    "X_data.head()"
   ]
  },
  {
   "cell_type": "code",
   "execution_count": null,
   "id": "9b75307c",
   "metadata": {},
   "outputs": [],
   "source": [
    "y_data.y.hist()"
   ]
  },
  {
   "cell_type": "markdown",
   "id": "1a358e41",
   "metadata": {},
   "source": [
    "def sample_uniformly(n, x) {\n",
    "    bounds = np.array((x.min(), x.max()))\n",
    "    r = diff(bounds) + 1\n",
    "    x = c(bounds[1]-r, sort(x), bounds[2]+r) # Place sentinels around `x`\n",
    "    u <- runif(n, bounds[1], bounds[2])       # Sample range of `bounds`\n",
    "      #\n",
    "      # Algorithm to find nearest `x` values to each `u` value.\n",
    "      #\n",
    "      a <- c(x, u)\n",
    "      i <- c(rep(TRUE, length(x)), rep(FALSE, length(u)))[order(a)]\n",
    "      j <- cumsum(i)[!i]\n",
    "      k <- length(x) + 1 - rev(cumsum(rev(i)))[!i]\n",
    "      ifelse(runif(n, a[j], a[k]) > u, a[j], a[k])\n",
    "}"
   ]
  },
  {
   "cell_type": "code",
   "execution_count": null,
   "id": "f1f17229",
   "metadata": {},
   "outputs": [],
   "source": [
    "def sample_uniformly(y, X, nsamples=None, nbins=100):\n",
    "    \n",
    "    order = np.argsort(y)\n",
    "    y_sorted = y[order]\n",
    "    X_sorted = X[order, :]\n",
    "    d = (- y_sorted[0] + y_sorted[-1])/1000\n",
    "    bins = np.linspace(y_sorted[0] - d , y_sorted[-1] + d, nbins)\n",
    "    \n",
    "    hist, _ = np.histogram(y_sorted, bins)\n",
    "    \n",
    "    if nsamples is None:\n",
    "        nsamples = np.min(hist)\n",
    "    sampled_index_list = []\n",
    "    for i in range(nbins-1):\n",
    "        indices,  = np.where(np.logical_and(y_sorted >= bins[i], y_sorted <= bins[i+1]))\n",
    "        #values = order[indices]\n",
    "        sampled_index_list.append(np.random.choice(indices, np.minimum(nsamples, len(indices)), replace=False))\n",
    "    \n",
    "    #print(sampled_index_list)\n",
    "    #print([ len(x) for x in sampled_index_list])\n",
    "    sampled_index = np.unique(np.concatenate(sampled_index_list))\n",
    "    #print(sampled_index)\n",
    "    y_sampled = y_sorted[sampled_index]\n",
    "    X_sampled = X_sorted[sampled_index, :]\n",
    "    return y_sampled, X_sampled"
   ]
  },
  {
   "cell_type": "code",
   "execution_count": null,
   "id": "9952fe70",
   "metadata": {},
   "outputs": [],
   "source": [
    "def ensemble_predict(y_train, X_train, y_test, X_test, pipeline, nmodels=5, nsamples=10):\n",
    "    #if n is None:\n",
    "    #    n = len(y_train)\n",
    "    ypred = y_test*0\n",
    "    for i in range(nmodels):\n",
    "        y_sampled, X_sampled = sample_uniformly(y_train, X_train, nsamples=nsamples)\n",
    "        #y_sampled, X_sampled = sample_uniformly(y_train, X_train, n, beta_a)\n",
    "        pipeline.fit(X_sampled, y_sampled)\n",
    "        #print(X_sampled.shape)\n",
    "        #print(X_train.shape)\n",
    "        #print(X_test.shape)\n",
    "        ypred_ = pipeline.predict(X_test)\n",
    "        pipeline.fit(X_train, y_train)\n",
    "        ypred_all = pipeline.predict(X_test)\n",
    "        #plt.figure()\n",
    "        #sns.regplot(x = y_train, y = pipeline.predict(X_train), color = 'red', scatter_kws={'s':1, 'alpha':0.2})\n",
    "        #sns.regplot(x = y_sampled, y = pipeline.predict(X_sampled), color = 'blue', scatter_kws={'s':1, 'alpha':0.2})\n",
    "        #sns.regplot(x = y_test, y = ypred_, color = 'red', scatter_kws={'s':1, 'alpha':0.2})\n",
    "        #sns.regplot(x = y_test, y = ypred_all, color = 'blue', scatter_kws={'s':1, 'alpha':0.2})\n",
    "        #plt.plot([-3, 3], [-3, 3], color = 'green')\n",
    "        #print(X_sampled.shape)\n",
    "        #print(X_train.shape)\n",
    "        #print(r2_score(y_sampled, pipeline.predict(X_sampled)))\n",
    "        #print(r2_score(y_train, pipeline.predict(X_train)))\n",
    "        #print(r2_score(y_test, ypred_))\n",
    "        #print(r2_score(y_test, ypred_all))\n",
    "        ypred += ypred_\n",
    "    # Average predictions of all models\n",
    "    #print(10*\"-\")\n",
    "    ypred /= nmodels\n",
    "    #print(r2_score(y_train, pipeline.predict(X_train)))\n",
    "    #print(r2_score(y_test, ypred))\n",
    "    #print(pearsonr(y_test, ypred))\n",
    "    return ypred, len(y_sampled)/len(y_train)\n",
    "\n",
    "model_dict = {\n",
    "    'ridge':RidgeCV(alphas=np.logspace(-3, 5, 9)),\n",
    "    'lasso':LassoCV(n_alphas=50),\n",
    "    'OLS':LinearRegression(),\n",
    "    'enet':ElasticNetCV(l1_ratio=[.1, .5, .7, .9, .95, .99, 1], n_alphas=10)\n",
    "             }\n",
    "\n",
    "def do_fit(X, nmodels, nsamples, use_RFE=0, model='ridge', noise=0):\n",
    "    \n",
    "    importances_list = []\n",
    "    fold_list = []\n",
    "    X_list = []\n",
    "    y_list = []\n",
    "    mse_list = []\n",
    "    r2_list = []\n",
    "    r_list = []\n",
    "    slope_list = []\n",
    "    \n",
    "    lm = model_dict[model]\n",
    "                \n",
    "    if use_RFE == 0: \n",
    "        pipeline =  Pipeline([\n",
    "                    ('imputer', IterativeImputer(max_iter=100, random_state=0)),\n",
    "                    ('scaler', StandardScaler()),\n",
    "                    ('lm', lm),\n",
    "                ])\n",
    "    else:\n",
    "        selector = RFE(lm, n_features_to_select=use_RFE, step=1)\n",
    "        pipeline =  Pipeline([\n",
    "                    ('imputer', IterativeImputer(max_iter=100, random_state=0)),\n",
    "                    ('scaler', StandardScaler()),\n",
    "                    ('lm', selector),\n",
    "                ])\n",
    "    \n",
    "    \n",
    "    for i, (train, test) in enumerate(outer_cv.split(X)):\n",
    "        X_train, X_test, y_train, y_test = X[train], X[test], y[train], y[test]\n",
    "\n",
    "        #pipeline.fit(X_train, y_train)\n",
    "        ypred, rel_size = ensemble_predict(y_train, X_train, y_test, X_test, pipeline, nmodels, nsamples)\n",
    "        #ypred = pipeline.predict(X_test)\n",
    "        r2_list.append(r2_score(y_test, ypred))\n",
    "        slope_list.append(linregress(y_test, ypred).slope)\n",
    "        r_list.append(pearsonr(y_test, ypred).statistic)\n",
    "        mse_list.append(mean_squared_error(y_test, ypred))\n",
    "        y_list.append((y_test, ypred))\n",
    "        X_list.append(X_test)\n",
    "        #importances_list.append(np.abs(pipeline.named_steps['lm'].coef_))\n",
    "        fold = y_test*0 + i\n",
    "        fold_list.append(fold.astype(int))\n",
    "\n",
    "    return rel_size, np.mean(r2_list), np.mean(mse_list), np.mean(r_list), np.mean(slope_list), noise\n",
    "        "
   ]
  },
  {
   "cell_type": "code",
   "execution_count": null,
   "id": "310c032e",
   "metadata": {},
   "outputs": [],
   "source": [
    "def create_dataset(n_samples, n_features, noise=1, random_state=0, friedman=False):\n",
    "    \n",
    "    if friedman:\n",
    "        X, y = make_friedman1(n_samples=n_samples, n_features=n_features, noise=noise, random_state=random_state)   \n",
    "    else:\n",
    "        mean = np.zeros(n_features)\n",
    "        cov = np.eye(n_features)\n",
    "        X = np.random.multivariate_normal(mean, cov, size=n_samples)\n",
    "        beta = np.random.multivariate_normal(mean, cov, size=1)\n",
    "        epsilon = np.random.normal(0, 1, size=(n_samples, 1))\n",
    "        y = X@np.transpose(beta) + noise*epsilon\n",
    "        \n",
    "    return X, y\n",
    "\n",
    "X, y = create_dataset(10, 5, 2)\n",
    "print(X.shape)\n",
    "print(y.shape)"
   ]
  },
  {
   "cell_type": "code",
   "execution_count": null,
   "id": "6df7108f",
   "metadata": {},
   "outputs": [],
   "source": [
    "n_folds = 10\n",
    "\n",
    "outer_cv = KFold(n_splits=n_folds, shuffle=True)\n",
    "\n",
    "y_orig = y_data.y.values\n",
    "X_orig = X_data.values\n",
    "\n",
    "noises = [0, 1, 4, 7]\n",
    "#nmodels = [10, 50, 100]\n",
    "#nsamples = [10, 50, 100, 200, 300]\n",
    "nmodels = [1, 10, 20, 50]\n",
    "nsamples = [10, 50, 100, 200, 300]\n",
    "use_RFE = [0, 5, 10]\n",
    "models = ['ridge', 'OLS', 'lasso'] #, 'enet']\n",
    "\n",
    "results = []\n",
    "prods = list(product(nmodels, nsamples, use_RFE, models))        \n",
    "print(len(prods))\n",
    "\n",
    "for noise in noises:\n",
    "\n",
    "    if noise > 0:\n",
    "        X, y = create_dataset(n_samples=X_orig.shape[0], n_features=X_orig.shape[1], noise=noise, random_state=0)    \n",
    "    else:\n",
    "        X, y = X_orig, y_orig\n",
    "        \n",
    "    results_partial = Parallel(n_jobs=30)(delayed(do_fit)(X, p[0], p[1], p[2], p[3], noise) for p in prods)\n",
    "    results.extend(results_partial)\n",
    "\n",
    "#print(results) \n",
    "\n",
    "#size, r2,  np.mean(mse_list), np.mean(slope_list)\n",
    "#(X, nmodels, nsamples, use_RFE=False, model='ridge')"
   ]
  },
  {
   "cell_type": "code",
   "execution_count": null,
   "id": "63659124",
   "metadata": {},
   "outputs": [],
   "source": [
    "df1 = pd.DataFrame(results, columns = ['rel_size', 'r2', 'mse', 'r', 'slope', 'noise'])\n",
    "df2 = pd.DataFrame(prods*len(noises), columns = ['nmodels', 'nsamples', 'use_RFE', 'model'])\n",
    "df = pd.concat((df1, df2), axis=1)\n",
    "df.to_csv('./out/simulations.csv')\n",
    "df.head()"
   ]
  },
  {
   "cell_type": "code",
   "execution_count": null,
   "id": "b1cd5bff",
   "metadata": {},
   "outputs": [],
   "source": [
    "plt.figure()\n",
    "g = sns.FacetGrid(df, col='use_RFE', row='noise')\n",
    "g.map_dataframe(sns.lineplot, x='nsamples', y='r2', hue='nmodels', style='model')\n",
    "g.add_legend()\n",
    "plt.show()\n",
    "\n",
    "plt.figure()\n",
    "g = sns.FacetGrid(df, col='model', row='noise')\n",
    "g.map_dataframe(sns.lineplot, x='nsamples', y='r2', hue='nmodels', style='use_RFE')\n",
    "g.add_legend()\n",
    "plt.show()\n",
    "\n",
    "plt.figure()\n",
    "g = sns.FacetGrid(df, col='use_RFE', row='noise')\n",
    "g.map_dataframe(sns.lineplot, x='nsamples', y='r', hue='nmodels', style='model')\n",
    "g.add_legend()\n",
    "plt.show()\n",
    "\n",
    "plt.figure()\n",
    "g = sns.FacetGrid(df, col='use_RFE', row='noise')\n",
    "g.map_dataframe(sns.lineplot, x='nsamples', y='rel_size', hue='nmodels', style='model')\n",
    "g.add_legend()\n",
    "plt.show()\n",
    "\n",
    "plt.figure()\n",
    "g = sns.FacetGrid(df, col='use_RFE', row='noise')\n",
    "g.map_dataframe(sns.lineplot, x='nsamples', y='slope', hue='nmodels', style='model')\n",
    "g.add_legend()\n",
    "plt.show()\n",
    "\n",
    "plt.figure()\n",
    "g = sns.FacetGrid(df, col='model', row='noise')\n",
    "g.map_dataframe(sns.lineplot, x='nsamples', y='slope', hue='nmodels', style='use_RFE')\n",
    "g.add_legend()\n",
    "plt.show()\n",
    "\n",
    "\n",
    "plt.figure()\n",
    "g = sns.FacetGrid(df, col='use_RFE', row='noise')\n",
    "g.map_dataframe(sns.lineplot, x='r2', y='slope', hue='nsamples', style='model')\n",
    "g.add_legend()\n",
    "plt.show()\n"
   ]
  },
  {
   "cell_type": "markdown",
   "id": "de24a021",
   "metadata": {},
   "source": [
    "y_test, ypred = zip(*y_list)\n",
    "y_test = np.concatenate(y_test)\n",
    "ypred = np.concatenate(ypred)"
   ]
  },
  {
   "cell_type": "markdown",
   "id": "949f449e",
   "metadata": {},
   "source": [
    "print(r2_score(y_list[0][0], y_list[0][1]))\n",
    "print(linregress(y_list[0][0], y_list[0][1]))\n",
    "print(pearsonr(y_list[0][0], y_list[0][1]))\n",
    "r2_score(y_test, ypred)\n",
    "sns.regplot(x = y_list[0][0], y = y_list[0][1], scatter_kws={'s':1, 'alpha':0.2})\n",
    "plt.plot([-3, 3], [-3, 3])"
   ]
  },
  {
   "cell_type": "markdown",
   "id": "c14e41b3",
   "metadata": {},
   "source": [
    "yt = y_list[0][0]\n",
    "yp = y_list[0][1]\n",
    "yminusf2 = (yt - yp)**2\n",
    "sserr = sum(yminusf2)\n",
    "mean = float(sum(yt)) / float(len(yt))\n",
    "yminusmean2 = (yt - mean)**2\n",
    "sstot = sum(yminusmean2)\n",
    "R2 = 1. -(sserr / sstot)\n",
    "print(R2, mean, sstot, sserr)\n",
    "print(r2_score(yt, yp))\n",
    "print(np.sqrt(mean_squared_error(yt, yp)))"
   ]
  },
  {
   "cell_type": "markdown",
   "id": "62134455",
   "metadata": {},
   "source": [
    "print(r2_list)"
   ]
  },
  {
   "cell_type": "markdown",
   "id": "ae69b685",
   "metadata": {},
   "source": [
    "ypred0 = cross_val_predict(pipeline, X, y, cv=n_folds).ravel()"
   ]
  },
  {
   "cell_type": "markdown",
   "id": "718395a3",
   "metadata": {},
   "source": [
    "sns.regplot(x = y_test, y = ypred, scatter_kws={'s':1, 'alpha':0.2})\n",
    "plt.axis('equal')\n",
    "result = linregress(y_test, ypred)\n",
    "print(result)"
   ]
  },
  {
   "cell_type": "code",
   "execution_count": null,
   "id": "bed3380c",
   "metadata": {},
   "outputs": [],
   "source": [
    "# try nsamples, nmodels, nbins"
   ]
  },
  {
   "cell_type": "markdown",
   "id": "40e904b0",
   "metadata": {},
   "source": [
    "sns.regplot(x = y, y = ypred0, scatter_kws={'s':1, 'alpha':0.2})\n",
    "plt.axis('equal')\n",
    "result = linregress(y, ypred0)\n",
    "print(result)"
   ]
  },
  {
   "cell_type": "markdown",
   "id": "8ec7d3bd",
   "metadata": {},
   "source": [
    "len(y)\n",
    "len(y_test)"
   ]
  },
  {
   "cell_type": "code",
   "execution_count": null,
   "id": "87162401",
   "metadata": {},
   "outputs": [],
   "source": []
  }
 ],
 "metadata": {
  "kernelspec": {
   "display_name": "Python 3 (ipykernel)",
   "language": "python",
   "name": "python3"
  },
  "language_info": {
   "codemirror_mode": {
    "name": "ipython",
    "version": 3
   },
   "file_extension": ".py",
   "mimetype": "text/x-python",
   "name": "python",
   "nbconvert_exporter": "python",
   "pygments_lexer": "ipython3",
   "version": "3.9.13"
  }
 },
 "nbformat": 4,
 "nbformat_minor": 5
}
